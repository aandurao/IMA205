{
 "cells": [
  {
   "cell_type": "markdown",
   "id": "b31170c2",
   "metadata": {
    "id": "ba60ecf4"
   },
   "source": [
    "$$ Antoine ~ Andurao$$\n",
    "\n",
    "# <center>IMA205 - Challenge: Code</center>"
   ]
  },
  {
   "cell_type": "markdown",
   "id": "5955d319",
   "metadata": {},
   "source": [
    "<h1>Importing packages and data</h1>"
   ]
  },
  {
   "cell_type": "code",
   "execution_count": 42,
   "id": "c649cb94",
   "metadata": {
    "executionInfo": {
     "elapsed": 4691,
     "status": "ok",
     "timestamp": 1682775768108,
     "user": {
      "displayName": "Antoine Andurao",
      "userId": "15987829178149357569"
     },
     "user_tz": -120
    },
    "id": "a8efcd59"
   },
   "outputs": [],
   "source": [
    "import glob\n",
    "\n",
    "import numpy as np\n",
    "import matplotlib.pyplot as plt\n",
    "import pandas as pd\n",
    "import nibabel as nib\n",
    "from nilearn.image import resample_img\n",
    "from scipy.ndimage import zoom, distance_transform_edt\n",
    "from skimage import measure\n",
    "\n",
    "from sklearn.ensemble import BaggingClassifier\n",
    "from sklearn.model_selection import train_test_split\n",
    "from sklearn import tree\n",
    "from sklearn.tree import DecisionTreeClassifier\n",
    "from sklearn.ensemble import RandomForestClassifier\n",
    "from sklearn.neighbors import KNeighborsClassifier\n",
    "from sklearn.svm import SVC, LinearSVC\n",
    "from sklearn.model_selection import GridSearchCV, KFold, cross_validate\n",
    "from sklearn.metrics import accuracy_score"
   ]
  },
  {
   "cell_type": "code",
   "execution_count": 2,
   "id": "75c6a481",
   "metadata": {},
   "outputs": [],
   "source": [
    "import tensorflow as tf\n",
    "from tensorflow.keras.layers import Input, Conv3D, MaxPooling3D, UpSampling3D, Concatenate, BatchNormalization, Activation, Conv3DTranspose"
   ]
  },
  {
   "cell_type": "code",
   "execution_count": 78,
   "id": "a408e2d4",
   "metadata": {
    "executionInfo": {
     "elapsed": 5,
     "status": "ok",
     "timestamp": 1682732198757,
     "user": {
      "displayName": "Antoine Andurao",
      "userId": "15987829178149357569"
     },
     "user_tz": -120
    },
    "id": "ebc5609b"
   },
   "outputs": [],
   "source": [
    "import os\n",
    "cwd = os.getcwd()"
   ]
  },
  {
   "cell_type": "code",
   "execution_count": 79,
   "id": "53ac901e",
   "metadata": {
    "executionInfo": {
     "elapsed": 14,
     "status": "ok",
     "timestamp": 1682732582344,
     "user": {
      "displayName": "Antoine Andurao",
      "userId": "15987829178149357569"
     },
     "user_tz": -120
    },
    "id": "3258dd7e"
   },
   "outputs": [],
   "source": [
    "train_ED = glob.glob(cwd + \"\\Train\\*\\*ED.nii\")\n",
    "train_ES = glob.glob(cwd + \"\\Train\\*\\*ES.nii\")\n",
    "train_ED_seg = glob.glob(cwd + \"\\Train\\*\\*ED_seg.nii\")\n",
    "train_ES_seg = glob.glob(cwd + \"\\Train\\*\\*ES_seg.nii\")\n",
    "\n",
    "test_ED = glob.glob(cwd + \"\\Test\\*\\*ED.nii\")\n",
    "test_ES = glob.glob(cwd + \"\\Test\\*\\*ES.nii\")\n",
    "test_ED_seg = glob.glob(cwd + \"\\Test\\*\\*ED_seg.nii\")\n",
    "test_ES_seg = glob.glob(cwd + \"\\Test\\*\\*ES_seg.nii\")"
   ]
  },
  {
   "cell_type": "code",
   "execution_count": 26,
   "id": "efcd2c17",
   "metadata": {
    "colab": {
     "base_uri": "https://localhost:8080/",
     "height": 354
    },
    "executionInfo": {
     "elapsed": 21,
     "status": "error",
     "timestamp": 1682733129135,
     "user": {
      "displayName": "Antoine Andurao",
      "userId": "15987829178149357569"
     },
     "user_tz": -120
    },
    "id": "27a99466",
    "outputId": "f42933b8-6511-44a7-ca82-f65cbe2ece2c"
   },
   "outputs": [],
   "source": [
    "train_data = pd.read_csv(cwd + \"/metadataTrain.csv\")\n",
    "test_data = pd.read_csv(cwd + \"/metadataTest.csv\")\n",
    "ground_truth = pd.read_csv(cwd + \"/ground_truth_gael.csv\")"
   ]
  },
  {
   "cell_type": "markdown",
   "id": "7e575cf3",
   "metadata": {},
   "source": [
    "<h1>Pre-processing</h1>"
   ]
  },
  {
   "cell_type": "code",
   "execution_count": 6,
   "id": "b80b0e5c",
   "metadata": {},
   "outputs": [],
   "source": [
    "def normalize_and_resample(imgs, target_voxel_size = [1.25, 1.25, 10]):\n",
    "    '''\n",
    "    Normalize and resample a list of images.\n",
    "\n",
    "    This function takes a list of image paths as input and performs normalization and resampling on each image\n",
    "    to match the recommended voxel size specified by the target_voxel_size parameter. The images are loaded\n",
    "    using nibabel, normalized using mean and standard deviation, and resampled using the zoom function from\n",
    "    scipy. The normalized and resampled Nifti1 images are then returned as a list.\n",
    "\n",
    "    Parameters:\n",
    "    - imgs (list): A list of image paths.\n",
    "    - target_voxel_size (list): The recommended voxel size to resample the images to. Default is [1.25, 1.25, 10] : \n",
    "      these values are provided by the paper.\n",
    "\n",
    "    Returns:\n",
    "    - ret (list): A list of normalized and resampled Nifti1 images.\n",
    "    '''\n",
    "    \n",
    "    # create an empty list to store normalized images\n",
    "    ret = []\n",
    "\n",
    "    # loop through each image\n",
    "    for image_path in imgs:\n",
    "        # load image using nibabel\n",
    "        image = nib.load(image_path)\n",
    "\n",
    "        # get image data as a numpy array\n",
    "        image_array = image.get_fdata()\n",
    "\n",
    "        # normalize the image data using mean and standard deviation\n",
    "        mean = np.mean(image_array)\n",
    "        std = np.std(image_array)\n",
    "        normalized_image_array = (image_array - mean) / std\n",
    "        \n",
    "        # get current voxel size\n",
    "        current_voxel_size = image.header.get_zooms()\n",
    "\n",
    "        # calculate the resampling factor\n",
    "        resampling_factor = np.divide(current_voxel_size, target_voxel_size)\n",
    "\n",
    "        # resample the image data\n",
    "        resampled_normalized_image_array = zoom(normalized_image_array, resampling_factor, order=1)\n",
    "\n",
    "        # create a new nibabel NIFTI1Image with the normalized image data\n",
    "        resampled_normalized_image = nib.Nifti1Image(resampled_normalized_image_array, image.affine, image.header)\n",
    "\n",
    "        # append the normalized image to the list\n",
    "        ret.append(resampled_normalized_image)\n",
    "        \n",
    "    return ret"
   ]
  },
  {
   "cell_type": "code",
   "execution_count": 1,
   "id": "74a63543",
   "metadata": {},
   "outputs": [],
   "source": [
    "def resample(imgs, target_voxel_size = [1.25, 1.25, 10]):\n",
    "    '''\n",
    "    Resample a list of images.\n",
    "\n",
    "    This function takes a list of image paths as input and performs resampling on each image to match the \n",
    "    recommended voxel size specified by the target_voxel_size parameter. The images are loaded using nibabel, \n",
    "    and resampled using the zoom function from scipy. The normalized and resampled Nifti1 images are then \n",
    "    returned as a list.\n",
    "\n",
    "    Parameters:\n",
    "    - imgs (list): A list of image paths.\n",
    "    - target_voxel_size (list): The recommended voxel size to resample the images to. Default is [1.25, 1.25, 10] : \n",
    "      these values are provided by the paper.\n",
    "\n",
    "    Returns:\n",
    "    - ret (list): A list of normalized and resampled Nifti1 images.\n",
    "    '''\n",
    "        \n",
    "    # create an empty list to store resampled images\n",
    "    ret = []\n",
    "\n",
    "    # loop through each image\n",
    "    for image_path in imgs:\n",
    "        # load image using nibabel\n",
    "        image = nib.load(image_path)\n",
    "\n",
    "        # get image data as a numpy array\n",
    "        image_array = image.get_fdata()\n",
    "    \n",
    "        # get current voxel size\n",
    "        current_voxel_size = image.header.get_zooms()\n",
    "\n",
    "        # calculate the resampling factor\n",
    "        resampling_factor = np.divide(current_voxel_size, target_voxel_size)\n",
    "\n",
    "        # resample the image data\n",
    "        resampled_image_array = zoom(image_array, resampling_factor, order=1)\n",
    "\n",
    "        # create a new nibabel NIFTI1Image with the normalized image data\n",
    "        resampled_image = nib.Nifti1Image(resampled_image_array, image.affine, image.header)\n",
    "\n",
    "        # append the normalized image to the list\n",
    "        ret.append(resampled_image)\n",
    "        \n",
    "    return ret"
   ]
  },
  {
   "cell_type": "code",
   "execution_count": 85,
   "id": "5ff85cc9",
   "metadata": {},
   "outputs": [],
   "source": [
    "train_ED = normalize_and_resample(train_ED)\n",
    "train_ES = normalize_and_resample(train_ES)\n",
    "train_ED_seg = resample(train_ED_seg)\n",
    "train_ES_seg = resample(train_ES_seg)\n",
    "\n",
    "test_ED = normalize_and_resample(test_ED)\n",
    "test_ED = normalize_and_resample(test_ES)\n",
    "test_ED_seg = resample(test_ED_seg)\n",
    "test_ES_seg = resample(test_ES_seg)"
   ]
  },
  {
   "cell_type": "code",
   "execution_count": 86,
   "id": "ddc9d141",
   "metadata": {},
   "outputs": [
    {
     "data": {
      "image/png": "[encoded data removed]",
      "text/plain": [
       "<Figure size 640x480 with 1 Axes>"
      ]
     },
     "metadata": {},
     "output_type": "display_data"
    }
   ],
   "source": [
    "plt.imshow(train_ED[0].get_fdata()[:,:,1], cmap='gray')\n",
    "plt.savefig(cwd + \"/after_preprocessing.png\")"
   ]
  },
  {
   "cell_type": "code",
   "execution_count": 11,
   "id": "af75042a",
   "metadata": {},
   "outputs": [
    {
     "data": {
      "text/plain": [
       "<matplotlib.image.AxesImage at 0x2338e31ecd0>"
      ]
     },
     "execution_count": 11,
     "metadata": {},
     "output_type": "execute_result"
    },
    {
     "data": {
      "image/png": "[encoded data removed]",
      "text/plain": [
       "<Figure size 640x480 with 1 Axes>"
      ]
     },
     "metadata": {},
     "output_type": "display_data"
    }
   ],
   "source": [
    "plt.imshow(train_ED_seg[0].get_fdata()[:,:,1], cmap='gray')"
   ]
  },
  {
   "cell_type": "markdown",
   "id": "3681143c",
   "metadata": {},
   "source": [
    "<h1>Attempt at segmentation using 3D UNet</h1>"
   ]
  },
  {
   "cell_type": "code",
   "execution_count": 87,
   "id": "465dc9df",
   "metadata": {
    "id": "13691c48"
   },
   "outputs": [],
   "source": [
    "# Define the input shape\n",
    "input_shape = (None, None, None, 1)\n",
    "\n",
    "# Define the input layer\n",
    "inputs = Input(shape=input_shape)\n",
    "\n",
    "# Define the context aggregation pathway\n",
    "conv1 = Conv3D(26, kernel_size=(3, 3, 3), padding='same')(inputs)\n",
    "conv1 = BatchNormalization()(conv1)\n",
    "conv1 = Activation('relu')(conv1)\n",
    "conv1 = Conv3D(26, kernel_size=(3, 3, 3), padding='same')(conv1)\n",
    "conv1 = BatchNormalization()(conv1)\n",
    "conv1 = Activation('relu')(conv1)\n",
    "pool1 = MaxPooling3D(pool_size=(2, 2, 1))(conv1)\n",
    "\n",
    "conv2 = Conv3D(52, kernel_size=(3, 3, 3), padding='same')(pool1)\n",
    "conv2 = BatchNormalization()(conv2)\n",
    "conv2 = Activation('relu')(conv2)\n",
    "conv2 = Conv3D(52, kernel_size=(3, 3, 3), padding='same')(conv2)\n",
    "conv2 = BatchNormalization()(conv2)\n",
    "conv2 = Activation('relu')(conv2)\n",
    "pool2 = MaxPooling3D(pool_size=(2, 2, 1))(conv2)\n",
    "\n",
    "conv3 = Conv3D(104, kernel_size=(3, 3, 3), padding='same')(pool2)\n",
    "conv3 = BatchNormalization()(conv3)\n",
    "conv3 = Activation('relu')(conv3)\n",
    "conv3 = Conv3D(104, kernel_size=(3, 3, 3), padding='same')(conv3)\n",
    "conv3 = BatchNormalization()(conv3)\n",
    "conv3 = Activation('relu')(conv3)\n",
    "pool3 = MaxPooling3D(pool_size=(2, 2, 1))(conv3)\n",
    "\n",
    "conv4 = Conv3D(208, kernel_size=(3, 3, 3), padding='same')(pool3)\n",
    "conv4 = BatchNormalization()(conv4)\n",
    "conv4 = Activation('relu')(conv4)\n",
    "conv4 = Conv3D(208, kernel_size=(3, 3, 3), padding='same')(conv4)\n",
    "conv4 = BatchNormalization()(conv4)\n",
    "conv4 = Activation('relu')(conv4)\n",
    "pool4 = MaxPooling3D(pool_size=(2, 2, 1))(conv4)\n",
    "\n",
    "conv5 = Conv3D(416, kernel_size=(3, 3, 3), padding='same')(pool4)\n",
    "conv5 = BatchNormalization()(conv5)\n",
    "conv5 = Activation('relu')(conv5)\n",
    "conv5 = Conv3D(416, kernel_size=(3, 3, 3), padding='same')(conv5)\n",
    "conv5 = BatchNormalization()(conv5)\n",
    "conv5 = Activation('relu')(conv5)\n",
    "\n",
    "# Define the localization pathway\n",
    "up6 = Conv3DTranspose(208, kernel_size=(2, 2, 1), strides=(2, 2, 1), padding='same')(conv5)\n",
    "up6 = Concatenate()([up6, conv4])\n",
    "conv6 = Conv3D(208, kernel_size=(3, 3, 3), padding='same')(up6)\n",
    "conv6 = BatchNormalization()(conv6)\n",
    "conv6 = Activation('relu')(conv6)\n",
    "conv6 = Conv3D(208, kernel_size=(3, 3, 3), padding='same')(conv6)\n",
    "conv6 = BatchNormalization()(conv6)\n",
    "conv6 = Activation('relu')(conv6)\n",
    "\n",
    "up7 = Conv3DTranspose(104, kernel_size=(2, 2, 1), strides=(2, 2, 1), padding='same')(conv6)\n",
    "up7 = Concatenate()([up7, conv3])\n",
    "conv7 = Conv3D(104, kernel_size=(3, 3, 3), padding='same')(up7)\n",
    "conv7 = BatchNormalization()(conv7)\n",
    "conv7 = Activation('relu')(conv7)\n",
    "conv7 = Conv3D(104, kernel_size=(3, 3, 3), padding='same')(conv7)\n",
    "conv7 = BatchNormalization()(conv7)\n",
    "conv7 = Activation('relu')(conv7)\n",
    "\n",
    "up8 = Conv3DTranspose(52, kernel_size=(2, 2, 1), strides=(2, 2, 1), padding='same')(conv7)\n",
    "up8 = Concatenate()([up8, conv2])\n",
    "conv8 = Conv3D(52, kernel_size=(3, 3, 3), padding='same')(up8)\n",
    "conv8 = BatchNormalization()(conv8)\n",
    "conv8 = Activation('relu')(conv8)\n",
    "conv8 = Conv3D(52, kernel_size=(3, 3, 3), padding='same')(conv8)\n",
    "conv8 = BatchNormalization()(conv8)\n",
    "conv8 = Activation('relu')(conv8)\n",
    "\n",
    "up9 = Conv3DTranspose(26, kernel_size=(2, 2, 1), strides=(2, 2, 1), padding='same')(conv8)\n",
    "up9 = Concatenate()([up9, conv1])\n",
    "conv9 = Conv3D(26, kernel_size=(3, 3, 3), padding='same')(up9)\n",
    "conv9 = BatchNormalization()(conv9)\n",
    "conv9 = Activation('relu')(conv9)\n",
    "conv9 = Conv3D(26, kernel_size=(3, 3, 3), padding='same')(conv9)\n",
    "conv9 = BatchNormalization()(conv9)\n",
    "conv9 = Activation('relu')(conv9)"
   ]
  },
  {
   "cell_type": "code",
   "execution_count": 88,
   "id": "8f1b0c83",
   "metadata": {
    "id": "b66d5b47"
   },
   "outputs": [],
   "source": [
    "seg1 = Conv3D(1, kernel_size=(1, 1, 1), activation='sigmoid', name='seg1')(conv3)\n",
    "seg2 = Conv3D(1, kernel_size=(1, 1, 1), activation='sigmoid', name='seg2')(conv5)\n",
    "seg3 = Conv3D(1, kernel_size=(1, 1, 1), activation='sigmoid', name='seg3')(conv9)\n",
    "\n",
    "model = tf.keras.Model(inputs=inputs, outputs=[seg1, seg2, seg3])"
   ]
  },
  {
   "cell_type": "code",
   "execution_count": 89,
   "id": "f21715b7",
   "metadata": {
    "id": "9e31dc9e",
    "outputId": "35681da1-450d-4fc3-b97e-037f6a475306"
   },
   "outputs": [
    {
     "name": "stdout",
     "output_type": "stream",
     "text": [
      "Model: \"model_2\"\n",
      "__________________________________________________________________________________________________\n",
      " Layer (type)                   Output Shape         Param #     Connected to                     \n",
      "==================================================================================================\n",
      " input_3 (InputLayer)           [(None, None, None,  0           []                               \n",
      "                                 None, 1)]                                                        \n",
      "                                                                                                  \n",
      " conv3d_36 (Conv3D)             (None, None, None,   728         ['input_3[0][0]']                \n",
      "                                None, 26)                                                         \n",
      "                                                                                                  \n",
      " batch_normalization_36 (BatchN  (None, None, None,   104        ['conv3d_36[0][0]']              \n",
      " ormalization)                  None, 26)                                                         \n",
      "                                                                                                  \n",
      " activation_36 (Activation)     (None, None, None,   0           ['batch_normalization_36[0][0]'] \n",
      "                                None, 26)                                                         \n",
      "                                                                                                  \n",
      " conv3d_37 (Conv3D)             (None, None, None,   18278       ['activation_36[0][0]']          \n",
      "                                None, 26)                                                         \n",
      "                                                                                                  \n",
      " batch_normalization_37 (BatchN  (None, None, None,   104        ['conv3d_37[0][0]']              \n",
      " ormalization)                  None, 26)                                                         \n",
      "                                                                                                  \n",
      " activation_37 (Activation)     (None, None, None,   0           ['batch_normalization_37[0][0]'] \n",
      "                                None, 26)                                                         \n",
      "                                                                                                  \n",
      " max_pooling3d_8 (MaxPooling3D)  (None, None, None,   0          ['activation_37[0][0]']          \n",
      "                                None, 26)                                                         \n",
      "                                                                                                  \n",
      " conv3d_38 (Conv3D)             (None, None, None,   36556       ['max_pooling3d_8[0][0]']        \n",
      "                                None, 52)                                                         \n",
      "                                                                                                  \n",
      " batch_normalization_38 (BatchN  (None, None, None,   208        ['conv3d_38[0][0]']              \n",
      " ormalization)                  None, 52)                                                         \n",
      "                                                                                                  \n",
      " activation_38 (Activation)     (None, None, None,   0           ['batch_normalization_38[0][0]'] \n",
      "                                None, 52)                                                         \n",
      "                                                                                                  \n",
      " conv3d_39 (Conv3D)             (None, None, None,   73060       ['activation_38[0][0]']          \n",
      "                                None, 52)                                                         \n",
      "                                                                                                  \n",
      " batch_normalization_39 (BatchN  (None, None, None,   208        ['conv3d_39[0][0]']              \n",
      " ormalization)                  None, 52)                                                         \n",
      "                                                                                                  \n",
      " activation_39 (Activation)     (None, None, None,   0           ['batch_normalization_39[0][0]'] \n",
      "                                None, 52)                                                         \n",
      "                                                                                                  \n",
      " max_pooling3d_9 (MaxPooling3D)  (None, None, None,   0          ['activation_39[0][0]']          \n",
      "                                None, 52)                                                         \n",
      "                                                                                                  \n",
      " conv3d_40 (Conv3D)             (None, None, None,   146120      ['max_pooling3d_9[0][0]']        \n",
      "                                None, 104)                                                        \n",
      "                                                                                                  \n",
      " batch_normalization_40 (BatchN  (None, None, None,   416        ['conv3d_40[0][0]']              \n",
      " ormalization)                  None, 104)                                                        \n",
      "                                                                                                  \n",
      " activation_40 (Activation)     (None, None, None,   0           ['batch_normalization_40[0][0]'] \n",
      "                                None, 104)                                                        \n",
      "                                                                                                  \n",
      " conv3d_41 (Conv3D)             (None, None, None,   292136      ['activation_40[0][0]']          \n",
      "                                None, 104)                                                        \n",
      "                                                                                                  \n",
      " batch_normalization_41 (BatchN  (None, None, None,   416        ['conv3d_41[0][0]']              \n",
      " ormalization)                  None, 104)                                                        \n",
      "                                                                                                  \n",
      " activation_41 (Activation)     (None, None, None,   0           ['batch_normalization_41[0][0]'] \n",
      "                                None, 104)                                                        \n",
      "                                                                                                  \n",
      " max_pooling3d_10 (MaxPooling3D  (None, None, None,   0          ['activation_41[0][0]']          \n",
      " )                              None, 104)                                                        \n",
      "                                                                                                  \n",
      " conv3d_42 (Conv3D)             (None, None, None,   584272      ['max_pooling3d_10[0][0]']       \n",
      "                                None, 208)                                                        \n",
      "                                                                                                  \n",
      " batch_normalization_42 (BatchN  (None, None, None,   832        ['conv3d_42[0][0]']              \n",
      " ormalization)                  None, 208)                                                        \n",
      "                                                                                                  \n",
      " activation_42 (Activation)     (None, None, None,   0           ['batch_normalization_42[0][0]'] \n",
      "                                None, 208)                                                        \n",
      "                                                                                                  \n",
      " conv3d_43 (Conv3D)             (None, None, None,   1168336     ['activation_42[0][0]']          \n",
      "                                None, 208)                                                        \n",
      "                                                                                                  \n",
      " batch_normalization_43 (BatchN  (None, None, None,   832        ['conv3d_43[0][0]']              \n",
      " ormalization)                  None, 208)                                                        \n"
     ]
    },
    {
     "name": "stdout",
     "output_type": "stream",
     "text": [
      "                                                                                                  \n",
      " activation_43 (Activation)     (None, None, None,   0           ['batch_normalization_43[0][0]'] \n",
      "                                None, 208)                                                        \n",
      "                                                                                                  \n",
      " max_pooling3d_11 (MaxPooling3D  (None, None, None,   0          ['activation_43[0][0]']          \n",
      " )                              None, 208)                                                        \n",
      "                                                                                                  \n",
      " conv3d_44 (Conv3D)             (None, None, None,   2336672     ['max_pooling3d_11[0][0]']       \n",
      "                                None, 416)                                                        \n",
      "                                                                                                  \n",
      " batch_normalization_44 (BatchN  (None, None, None,   1664       ['conv3d_44[0][0]']              \n",
      " ormalization)                  None, 416)                                                        \n",
      "                                                                                                  \n",
      " activation_44 (Activation)     (None, None, None,   0           ['batch_normalization_44[0][0]'] \n",
      "                                None, 416)                                                        \n",
      "                                                                                                  \n",
      " conv3d_45 (Conv3D)             (None, None, None,   4672928     ['activation_44[0][0]']          \n",
      "                                None, 416)                                                        \n",
      "                                                                                                  \n",
      " batch_normalization_45 (BatchN  (None, None, None,   1664       ['conv3d_45[0][0]']              \n",
      " ormalization)                  None, 416)                                                        \n",
      "                                                                                                  \n",
      " activation_45 (Activation)     (None, None, None,   0           ['batch_normalization_45[0][0]'] \n",
      "                                None, 416)                                                        \n",
      "                                                                                                  \n",
      " conv3d_transpose_8 (Conv3DTran  (None, None, None,   346320     ['activation_45[0][0]']          \n",
      " spose)                         None, 208)                                                        \n",
      "                                                                                                  \n",
      " concatenate_8 (Concatenate)    (None, None, None,   0           ['conv3d_transpose_8[0][0]',     \n",
      "                                None, 416)                        'activation_43[0][0]']          \n",
      "                                                                                                  \n",
      " conv3d_46 (Conv3D)             (None, None, None,   2336464     ['concatenate_8[0][0]']          \n",
      "                                None, 208)                                                        \n",
      "                                                                                                  \n",
      " batch_normalization_46 (BatchN  (None, None, None,   832        ['conv3d_46[0][0]']              \n",
      " ormalization)                  None, 208)                                                        \n",
      "                                                                                                  \n",
      " activation_46 (Activation)     (None, None, None,   0           ['batch_normalization_46[0][0]'] \n",
      "                                None, 208)                                                        \n",
      "                                                                                                  \n",
      " conv3d_47 (Conv3D)             (None, None, None,   1168336     ['activation_46[0][0]']          \n",
      "                                None, 208)                                                        \n",
      "                                                                                                  \n",
      " batch_normalization_47 (BatchN  (None, None, None,   832        ['conv3d_47[0][0]']              \n",
      " ormalization)                  None, 208)                                                        \n",
      "                                                                                                  \n",
      " activation_47 (Activation)     (None, None, None,   0           ['batch_normalization_47[0][0]'] \n",
      "                                None, 208)                                                        \n",
      "                                                                                                  \n",
      " conv3d_transpose_9 (Conv3DTran  (None, None, None,   86632      ['activation_47[0][0]']          \n",
      " spose)                         None, 104)                                                        \n",
      "                                                                                                  \n",
      " concatenate_9 (Concatenate)    (None, None, None,   0           ['conv3d_transpose_9[0][0]',     \n",
      "                                None, 208)                        'activation_41[0][0]']          \n",
      "                                                                                                  \n",
      " conv3d_48 (Conv3D)             (None, None, None,   584168      ['concatenate_9[0][0]']          \n",
      "                                None, 104)                                                        \n",
      "                                                                                                  \n",
      " batch_normalization_48 (BatchN  (None, None, None,   416        ['conv3d_48[0][0]']              \n",
      " ormalization)                  None, 104)                                                        \n",
      "                                                                                                  \n",
      " activation_48 (Activation)     (None, None, None,   0           ['batch_normalization_48[0][0]'] \n",
      "                                None, 104)                                                        \n",
      "                                                                                                  \n",
      " conv3d_49 (Conv3D)             (None, None, None,   292136      ['activation_48[0][0]']          \n",
      "                                None, 104)                                                        \n",
      "                                                                                                  \n",
      " batch_normalization_49 (BatchN  (None, None, None,   416        ['conv3d_49[0][0]']              \n",
      " ormalization)                  None, 104)                                                        \n",
      "                                                                                                  \n",
      " activation_49 (Activation)     (None, None, None,   0           ['batch_normalization_49[0][0]'] \n",
      "                                None, 104)                                                        \n",
      "                                                                                                  \n",
      " conv3d_transpose_10 (Conv3DTra  (None, None, None,   21684      ['activation_49[0][0]']          \n",
      " nspose)                        None, 52)                                                         \n",
      "                                                                                                  \n",
      " concatenate_10 (Concatenate)   (None, None, None,   0           ['conv3d_transpose_10[0][0]',    \n",
      "                                None, 104)                        'activation_39[0][0]']          \n",
      "                                                                                                  \n",
      " conv3d_50 (Conv3D)             (None, None, None,   146068      ['concatenate_10[0][0]']         \n",
      "                                None, 52)                                                         \n",
      "                                                                                                  \n",
      " batch_normalization_50 (BatchN  (None, None, None,   208        ['conv3d_50[0][0]']              \n"
     ]
    },
    {
     "name": "stdout",
     "output_type": "stream",
     "text": [
      " ormalization)                  None, 52)                                                         \n",
      "                                                                                                  \n",
      " activation_50 (Activation)     (None, None, None,   0           ['batch_normalization_50[0][0]'] \n",
      "                                None, 52)                                                         \n",
      "                                                                                                  \n",
      " conv3d_51 (Conv3D)             (None, None, None,   73060       ['activation_50[0][0]']          \n",
      "                                None, 52)                                                         \n",
      "                                                                                                  \n",
      " batch_normalization_51 (BatchN  (None, None, None,   208        ['conv3d_51[0][0]']              \n",
      " ormalization)                  None, 52)                                                         \n",
      "                                                                                                  \n",
      " activation_51 (Activation)     (None, None, None,   0           ['batch_normalization_51[0][0]'] \n",
      "                                None, 52)                                                         \n",
      "                                                                                                  \n",
      " conv3d_transpose_11 (Conv3DTra  (None, None, None,   5434       ['activation_51[0][0]']          \n",
      " nspose)                        None, 26)                                                         \n",
      "                                                                                                  \n",
      " concatenate_11 (Concatenate)   (None, None, None,   0           ['conv3d_transpose_11[0][0]',    \n",
      "                                None, 52)                         'activation_37[0][0]']          \n",
      "                                                                                                  \n",
      " conv3d_52 (Conv3D)             (None, None, None,   36530       ['concatenate_11[0][0]']         \n",
      "                                None, 26)                                                         \n",
      "                                                                                                  \n",
      " batch_normalization_52 (BatchN  (None, None, None,   104        ['conv3d_52[0][0]']              \n",
      " ormalization)                  None, 26)                                                         \n",
      "                                                                                                  \n",
      " activation_52 (Activation)     (None, None, None,   0           ['batch_normalization_52[0][0]'] \n",
      "                                None, 26)                                                         \n",
      "                                                                                                  \n",
      " conv3d_53 (Conv3D)             (None, None, None,   18278       ['activation_52[0][0]']          \n",
      "                                None, 26)                                                         \n",
      "                                                                                                  \n",
      " batch_normalization_53 (BatchN  (None, None, None,   104        ['conv3d_53[0][0]']              \n",
      " ormalization)                  None, 26)                                                         \n",
      "                                                                                                  \n",
      " activation_53 (Activation)     (None, None, None,   0           ['batch_normalization_53[0][0]'] \n",
      "                                None, 26)                                                         \n",
      "                                                                                                  \n",
      " seg1 (Conv3D)                  (None, None, None,   105         ['activation_41[0][0]']          \n",
      "                                None, 1)                                                          \n",
      "                                                                                                  \n",
      " seg2 (Conv3D)                  (None, None, None,   417         ['activation_45[0][0]']          \n",
      "                                None, 1)                                                          \n",
      "                                                                                                  \n",
      " seg3 (Conv3D)                  (None, None, None,   27          ['activation_53[0][0]']          \n",
      "                                None, 1)                                                          \n",
      "                                                                                                  \n",
      "==================================================================================================\n",
      "Total params: 14,454,313\n",
      "Trainable params: 14,449,529\n",
      "Non-trainable params: 4,784\n",
      "__________________________________________________________________________________________________\n"
     ]
    }
   ],
   "source": [
    "model.summary()"
   ]
  },
  {
   "cell_type": "code",
   "execution_count": 15,
   "id": "101bd681",
   "metadata": {
    "id": "3d90a072",
    "outputId": "50ac59bf-5d25-470b-87ba-dc1337c6fc7d"
   },
   "outputs": [],
   "source": [
    "# Define the optimizer and loss function\n",
    "optimizer = tf.keras.optimizers.Adam(learning_rate=5e-4)\n",
    "loss = tf.keras.losses.CategoricalCrossentropy()\n",
    "\n",
    "# Compile the model\n",
    "model.compile(optimizer=optimizer, loss=loss)\n",
    "\n",
    "# Define the learning rate decay schedule\n",
    "def lr_decay(epoch):\n",
    "    return 5e-4 * (0.98 ** epoch)\n",
    "\n",
    "# Define the callbacks\n",
    "callbacks = [\n",
    "    tf.keras.callbacks.LearningRateScheduler(lr_decay),\n",
    "    tf.keras.callbacks.ModelCheckpoint('3D_model_weights.h5', save_best_only=True, save_weights_only=True)\n",
    "]\n",
    "\n",
    "# Get validation data\n",
    "train_data_seg = [nib.load(train_ED_seg[i]).get_fdata().tolist() for i in range(len(train_ED_seg))]\n",
    "train_data = [resampled_train_ED[i].get_fdata() for i in range(len(train_ED_seg))]\n",
    "\n",
    "# Train the model for 300 epochs with a batch size of 4\n",
    "history = model.fit(train_data, epochs=3, steps_per_epoch=300, batch_size=4, validation_data=train_data_seg, callbacks=callbacks)\n",
    "\n",
    "train_acc_N = history.history['accuracy']\n",
    "print(train_acc_N)"
   ]
  },
  {
   "cell_type": "markdown",
   "id": "0e374359",
   "metadata": {},
   "source": [
    "<h1>Feature extraction</h1>"
   ]
  },
  {
   "cell_type": "code",
   "execution_count": 12,
   "id": "b4988e8c",
   "metadata": {},
   "outputs": [],
   "source": [
    "def get_binary_from_multiclass(mask_array, selected_class):\n",
    "    '''\n",
    "    Convert the mask array to a binary array.\n",
    "    \n",
    "    Description:\n",
    "        This method takes a mask array and a selected class as input and converts the mask array into a binary array.\n",
    "        It assigns a value of 1 to pixels where the mask array is equal to the selected class, and a value of 0 to pixels where the mask array is not equal to the selected class. \n",
    "        The resulting binary array is then converted to a boolean data type.\n",
    "\n",
    "    Parameters:\n",
    "\n",
    "        mask_array (ndarray): The input mask array.\n",
    "        selected_class (int or ndarray): The selected class to be converted to binary.\n",
    "\n",
    "    Returns:\n",
    "        binary_array (ndarray): The binary array obtained from the mask array, where pixels with the selected class are set to 1 and others are set to 0.\n",
    "    '''\n",
    "\n",
    "    # Convert the mask array to a binary array\n",
    "    binary_array = np.zeros_like(mask_array)\n",
    "    binary_array[np.where(mask_array == selected_class)] = 1\n",
    "    binary_array[np.where(mask_array != selected_class)] = 0\n",
    "\n",
    "    # Ensure that the binary array is of dtype bool\n",
    "    binary_array = binary_array.astype(bool)\n",
    "    return binary_array"
   ]
  },
  {
   "cell_type": "code",
   "execution_count": 13,
   "id": "e3ab1d43",
   "metadata": {},
   "outputs": [],
   "source": [
    "def fit_circle_to_contour(contour):\n",
    "    '''\n",
    "    Fit a circle to a contour using least-squares fitting.\n",
    "\n",
    "    This method fits a circle to a contour represented by a set of points using least-squares fitting.\n",
    "    It calculates the center coordinates (x, y) and the radius of the fitted circle.\n",
    "\n",
    "    Parameters:\n",
    "    - contour (ndarray): The contour points represented as an array of shape (n, 2), where n is the number of points.\n",
    "                         Each point should be in the format (x, y).\n",
    "\n",
    "    Returns:\n",
    "    - center_x (float): The x-coordinate of the center of the fitted circle.\n",
    "    - center_y (float): The y-coordinate of the center of the fitted circle.\n",
    "    - radius (float): The radius of the fitted circle.\n",
    "    '''\n",
    "    \n",
    "    # Fit a circle to the contour points using least-squares fitting\n",
    "    x, y = contour[:, 1], contour[:, 0]\n",
    "    A = np.column_stack([x**2 + y**2, x, y, np.ones_like(x)])\n",
    "    b = -(x**2 + y**2)\n",
    "    c = np.linalg.lstsq(A, b, rcond=None)[0]\n",
    "    \n",
    "    # Extract center and radius of the fitted circle\n",
    "    center_x, center_y = -c[1]/2, -c[2]/2\n",
    "    radius = np.sqrt((c[1]**2 + c[2]**2)/4 - c[0])\n",
    "    \n",
    "    return center_x, center_y, radius"
   ]
  },
  {
   "cell_type": "code",
   "execution_count": 14,
   "id": "6578321a",
   "metadata": {},
   "outputs": [],
   "source": [
    "def circumference_circularity_LVM_RVC(lvm_mask, rvc_mask):\n",
    "    '''\n",
    "    Compute circumference and circularity metrics for Left Ventricular Myocardium (LVM) and Right Ventricle (RVC).\n",
    "\n",
    "    This method takes binary masks of LVM and RVC regions as input and computes various metrics including\n",
    "    circumference, circularity, thickness, and area for each region.\n",
    "\n",
    "    Parameters:\n",
    "    - lvm_mask (ndarray): Binary mask of the LVM region.\n",
    "    - rvc_mask (ndarray): Binary mask of the RVC region.\n",
    "\n",
    "    Returns:\n",
    "    - metrics (list): A list containing the following metrics in the specified order:\n",
    "                      [lvm_circumference, lvm_circularity, lvm_thickness, lvm_area,\n",
    "                       rvc_circumference, rvc_circularity, rvc_thickness, rvc_area]\n",
    "    '''\n",
    "    \n",
    "    # Compute the contours of the LVM and RVC\n",
    "    lvm_contours = measure.find_contours(lvm_mask, 0.5)\n",
    "    rvc_contours = measure.find_contours(rvc_mask, 0.5)\n",
    "    \n",
    "    if(len(lvm_contours) != 0):\n",
    "\n",
    "        # Fit a circle to the contour points of LVM region\n",
    "        lvm_center_x, lvm_center_y, lvm_radius = fit_circle_to_contour(lvm_contours[0])\n",
    "        \n",
    "        # Compute circumference and circularity of LVM region\n",
    "        lvm_circumference = 2 * np.pi * lvm_radius\n",
    "        lvm_area = np.sum(lvm_mask == 1)\n",
    "        lvm_circularity = (4 * np.pi * lvm_area) / (lvm_circumference ** 2)\n",
    "        \n",
    "        # Compute distance transform of the binary mask\n",
    "        dist_transform = distance_transform_edt(lvm_mask == 0)\n",
    "        \n",
    "        # Compute thickness of LVM region\n",
    "        lvm_thickness = dist_transform[int(lvm_center_x), int(lvm_center_y)] - lvm_radius\n",
    "    else:\n",
    "        lvm_circumference, lvm_circularity, lvm_thickness, lvm_area = 0, 0, 0, 0\n",
    "    \n",
    "    if(len(rvc_contours) != 0):\n",
    "        \n",
    "        # Fit a circle to the contour points of RVC region\n",
    "        rvc_center_x, rvc_center_y, rvc_radius = fit_circle_to_contour(rvc_contours[0])\n",
    "        \n",
    "        # Compute circumference and circularity of RVC region\n",
    "        rvc_circumference = 2 * np.pi * rvc_radius\n",
    "        rvc_area = np.sum(rvc_mask == 1)\n",
    "        rvc_circularity = (4 * np.pi * rvc_area) / (rvc_circumference ** 2)\n",
    "        \n",
    "        # Compute distance transform of the binary mask\n",
    "        dist_transform = distance_transform_edt(rvc_mask == 0)\n",
    "\n",
    "        # Compute thickness of RVC region\n",
    "        rvc_thickness = dist_transform[int(rvc_center_x), int(rvc_center_y)] - rvc_radius\n",
    "    else:\n",
    "        rvc_circumference, rvc_circularity, rvc_thickness, rvc_area = 0, 0, 0, 0\n",
    "    \n",
    "    return [lvm_circumference, lvm_circularity, lvm_thickness, lvm_area, rvc_circumference, rvc_circularity, rvc_thickness, rvc_area]"
   ]
  },
  {
   "cell_type": "code",
   "execution_count": 15,
   "id": "5b2e1164",
   "metadata": {},
   "outputs": [],
   "source": [
    "def aggregate_features_over_z(img, feat_func):\n",
    "    '''\n",
    "    Aggregate features over the z-dimension of an Nifti1 image.\n",
    "\n",
    "    This method takes a Nifti1 image and a feature function as input and aggregates the features computed by the\n",
    "    feature function over the z-dimension of the image. The feature function should take binary masks of\n",
    "    Left Ventricular Myocardium (LVM) and Right Ventricle (RVC) regions as input and return a list of metrics.\n",
    "\n",
    "    Parameters:\n",
    "    - img (Nifti1Image): The input image.\n",
    "    - feat_func (function): The feature function to compute metrics for LVM and RVC regions.\n",
    "\n",
    "    Returns:\n",
    "    - aggregated_features (ndarray): An array containing the aggregated features over the z-dimension.\n",
    "    '''\n",
    "    \n",
    "    img_data = img.get_fdata()\n",
    "    num_z_planes = img_data.shape[2]\n",
    "    circ_features = []\n",
    "    for i in range(num_z_planes):\n",
    "        rvc_mask = get_binary_from_multiclass(img_data[:,:,i], 1)\n",
    "        lvm_mask = get_binary_from_multiclass(img_data[:,:,i], 2)\n",
    "        \n",
    "        circ_features.append(feat_func(lvm_mask, rvc_mask))\n",
    "        \n",
    "    aggregated_features = np.mean(circ_features, axis=0)\n",
    "    \n",
    "    return aggregated_features"
   ]
  },
  {
   "cell_type": "code",
   "execution_count": 16,
   "id": "b380c01c",
   "metadata": {},
   "outputs": [],
   "source": [
    "def get_features(ES_imgs, ED_imgs, data):\n",
    "    '''\n",
    "    Get features for a set of Nifti1 images and corresponding data.\n",
    "\n",
    "    This method takes a list of end-systolic (ES) images, end-diastolic (ED) images, and corresponding data\n",
    "    as input. It computes features for each image using the aggregate_features_over_z method and returns\n",
    "    a numpy array containing the computed features concatenated with Body Surface Area (BSA) values from\n",
    "    the provided data.\n",
    "    \n",
    "    BSA is computed using Mosteller formula.\n",
    "\n",
    "    Parameters:\n",
    "    - ES_imgs (list): A list of end-systolic images.\n",
    "    - ED_imgs (list): A list of end-diastolic images.\n",
    "    - data (DataFrame): Data containing additional information for each Nifti1 image.\n",
    "\n",
    "    Returns:\n",
    "    - features_tab (ndarray): An array containing a set of 17 features for each pair of ED-ES Nifti1 images.\n",
    "    '''\n",
    "    \n",
    "    features_tab = []\n",
    "    for i in range(len(ES_imgs)):\n",
    "        circ_and_thick_features_ED = aggregate_features_over_z(ED_imgs[i], circumference_circularity_LVM_RVC)\n",
    "        circ_and_thick_features_ES = aggregate_features_over_z(ES_imgs[i], circumference_circularity_LVM_RVC)\n",
    "        BSA = [np.sqrt((data.loc[i, 'Height'] * data.loc[i, 'Weight']) / 3600)]\n",
    "        features_tab.append(np.concatenate((circ_and_thick_features_ES, circ_and_thick_features_ED, BSA)))\n",
    "    return np.array(features_tab)\n",
    "        "
   ]
  },
  {
   "cell_type": "markdown",
   "id": "0e3ce98e",
   "metadata": {},
   "source": [
    "<h1>Classification</h1>\n",
    "\n",
    "**Retrieving the features and shuffling data**"
   ]
  },
  {
   "cell_type": "code",
   "execution_count": 29,
   "id": "7cc26271",
   "metadata": {},
   "outputs": [],
   "source": [
    "X_train = get_features(train_ES_seg, train_ED_seg, train_data)\n",
    "X_test = get_features(test_ES_seg, test_ED_seg, test_data)"
   ]
  },
  {
   "cell_type": "code",
   "execution_count": 34,
   "id": "f81f6866",
   "metadata": {},
   "outputs": [],
   "source": [
    "y_train = np.array(train_data['Category'])\n",
    "y_test = np.array(ground_truth['Category'])"
   ]
  },
  {
   "cell_type": "code",
   "execution_count": 35,
   "id": "dfbcc242",
   "metadata": {},
   "outputs": [],
   "source": [
    "indices = np.arange(len(X_train))\n",
    "np.random.shuffle(indices)\n",
    "X_train = X_train[indices]\n",
    "y_train = y_train[indices]"
   ]
  },
  {
   "cell_type": "markdown",
   "id": "b8eb8ab6",
   "metadata": {},
   "source": [
    "**K-NN Classifier**"
   ]
  },
  {
   "cell_type": "code",
   "execution_count": 66,
   "id": "47dcfcd3",
   "metadata": {},
   "outputs": [
    {
     "name": "stdout",
     "output_type": "stream",
     "text": [
      "Best training Score: 0.6499999999999999\n",
      "Best training params: {'n_neighbors': 10}\n"
     ]
    }
   ],
   "source": [
    "neigh = KNeighborsClassifier()\n",
    "\n",
    "p_grid_KNN = {'n_neighbors': [1,2,3,4,5,6,7,8,9,10]}\n",
    "grid_KNN = GridSearchCV(estimator=neigh, param_grid=p_grid_KNN, scoring=\"accuracy\", cv=5)\n",
    "grid_KNN.fit(X_train, y_train)\n",
    "print(\"Best training Score: {}\".format(grid_KNN.best_score_))\n",
    "print(\"Best training params: {}\".format(grid_KNN.best_params_))\n",
    "y_result = grid_KNN.predict(X_test)"
   ]
  },
  {
   "cell_type": "markdown",
   "id": "00a33b3d",
   "metadata": {},
   "source": [
    "**SVM - Linear and Non-Linear**"
   ]
  },
  {
   "cell_type": "code",
   "execution_count": 67,
   "id": "6a9f4033",
   "metadata": {},
   "outputs": [
    {
     "name": "stdout",
     "output_type": "stream",
     "text": [
      "Best training Score: 0.67\n",
      "Best training params: {'kernel': 'rbf'}\n"
     ]
    }
   ],
   "source": [
    "# Looking for the best hyperparameters\n",
    "svc = SVC()\n",
    "\n",
    "p_grid_SVC = {'kernel': [\"linear\", \"poly\", \"rbf\", \"sigmoid\"]}\n",
    "p_grid_SVC = GridSearchCV(estimator=svc, param_grid=p_grid_SVC, scoring=\"accuracy\", cv=5)\n",
    "p_grid_SVC.fit(X_train, y_train)\n",
    "print(\"Best training Score: {}\".format(p_grid_SVC.best_score_))\n",
    "print(\"Best training params: {}\".format(p_grid_SVC.best_params_))\n",
    "y_result = p_grid_SVC.predict(X_test)"
   ]
  },
  {
   "cell_type": "markdown",
   "id": "1fd60c8a",
   "metadata": {},
   "source": [
    "**RandomForest Classifier**"
   ]
  },
  {
   "cell_type": "code",
   "execution_count": 69,
   "id": "1ad9fdd9",
   "metadata": {},
   "outputs": [
    {
     "name": "stdout",
     "output_type": "stream",
     "text": [
      "Best Validation Score: 0.62\n",
      "Best params: {'max_features': 'sqrt', 'min_samples_leaf': 3, 'n_estimators': 20}\n"
     ]
    }
   ],
   "source": [
    "RF=RandomForestClassifier(random_state=0)\n",
    "p_grid_RF = {'n_estimators': [10,15,20,25,30], 'min_samples_leaf': [2,3,4,5,6], 'max_features': ['sqrt','log2']}   \n",
    "\n",
    "grid_RF = GridSearchCV(estimator=RF, param_grid=p_grid_RF, scoring=\"balanced_accuracy\", cv=5)\n",
    "grid_RF.fit(X_train, y_train.ravel())\n",
    "\n",
    "print(\"Best Validation Score: {}\".format(grid_RF.best_score_))\n",
    "print(\"Best params: {}\".format(grid_RF.best_params_))\n",
    "y_result = grid_RF.predict(X_test)"
   ]
  },
  {
   "cell_type": "markdown",
   "id": "02206213",
   "metadata": {},
   "source": [
    "**Saving the results for submission**"
   ]
  },
  {
   "cell_type": "code",
   "execution_count": 284,
   "id": "21432e7c",
   "metadata": {},
   "outputs": [],
   "source": [
    "data = {\"Id\": test_data[\"Id\"], \"Category\": y_result}\n",
    "res = pd.DataFrame(data)\n",
    "res.to_csv(\"ANDURAO_SUBMISSION_3.csv\", index=False)"
   ]
  }
 ],
 "metadata": {
  "colab": {
   "name": "",
   "version": ""
  },
  "kernelspec": {
   "display_name": "Python 3 (ipykernel)",
   "language": "python",
   "name": "python3"
  },
  "language_info": {
   "codemirror_mode": {
    "name": "ipython",
    "version": 3
   },
   "file_extension": ".py",
   "mimetype": "text/x-python",
   "name": "python",
   "nbconvert_exporter": "python",
   "pygments_lexer": "ipython3",
   "version": "3.9.7"
  }
 },
 "nbformat": 4,
 "nbformat_minor": 5
}
